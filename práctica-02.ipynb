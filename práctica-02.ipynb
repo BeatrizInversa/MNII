{
 "cells": [
  {
   "cell_type": "markdown",
   "id": "c67c48e8",
   "metadata": {},
   "source": [
    "<div align=\"center\"><span style=\"font-family: Arial; color:#0000FF\"><b>\n",
    "    <span style=\"font-size: x-large\">Métodos Numéricos II</span>\n",
    "    <br>\n",
    "    <span style=\"font-size: large\">Segundo de Grado en Matemáticas - Curso 2022/23</span>\n",
    "    <br>\n",
    "    <span style=\"font-size: medium\">Facultad de Ciencias de la Universidad de Málaga</span>\n",
    "    <br>\n",
    "    <span style=\"font-size: small\">Dpto. de Análisis Matemático, Estadística e Investigación Operativa, y Matemática Aplicada</span>\n",
    "    <br>\n",
    "    <span style=\"font-size: small\">Profs. Manuel J. Castro y Francisco J. Palma (Área Conocimiento de Matemática Aplicada)</span>\n",
    "    <br>\n",
    "    <span style=\"font-size: medium; color:#FF0000\">Práctica número 2</span>\n",
    "    </b></span></div>"
   ]
  },
  {
   "cell_type": "markdown",
   "id": "169f0c50",
   "metadata": {},
   "source": [
    "<div align=\"left\"><span style=\"font-family: Arial; color:#000000; font-size: medium\">\n",
    "    En primer lugar cargamos los módulos necesarios.\n",
    "    </span></div>"
   ]
  },
  {
   "cell_type": "code",
   "execution_count": null,
   "id": "4a3bf54c",
   "metadata": {},
   "outputs": [],
   "source": [
    "# -*- coding: utf-8 -*-\n",
    "from numpy import *\n",
    "from numpy.linalg import *\n",
    "from numpy import abs, sum, max, min"
   ]
  },
  {
   "cell_type": "markdown",
   "id": "44e2ce8a",
   "metadata": {},
   "source": [
    "<div align=\"left\"><span style=\"font-family: Arial; color:#000000; font-size: medium\">\n",
    "    El primer objetivo de esta práctica es ver la forma en la que podemos <b>definir nuestras propias funciones</b> que implementen un determinado algoritmo.\n",
    "    </span></div>"
   ]
  },
  {
   "cell_type": "markdown",
   "id": "8cb8d741",
   "metadata": {},
   "source": [
    "<div align=\"left\"><span style=\"font-family: Arial; color:#000000; font-size: medium\">\n",
    "    Por ejemplo, nos podemos plantear definir una función, a la que llamaremos <span style=\"font-family: Courier\">conjugada()</span>, que calcule la <b>conjugada</b> de una matriz.\n",
    "    <br>\n",
    "    Esta función debe tener un único argumento de entrada, que es una matriz $A\\in\\mathcal{M}_{m\\times n}(\\mathbb{C})$, y debe devolver su matriz conjugada $A^*\\in\\mathcal{M}_{n\\times m}(\\mathbb{C})$. El código necesario para llevar a cabo esta tarea puede ser tan simple como este que sigue.\n",
    "    </span></div>"
   ]
  },
  {
   "cell_type": "code",
   "execution_count": null,
   "id": "c8cdf1de",
   "metadata": {},
   "outputs": [],
   "source": [
    "def conjugada(A):\n",
    "    return conjugate(transpose(A))"
   ]
  },
  {
   "cell_type": "markdown",
   "id": "e48d609b",
   "metadata": {},
   "source": [
    "<div align=\"left\"><span style=\"font-family: Arial; color:#000000; font-size: medium\">\n",
    "    <span style=\"color:#FF0000\"><b>Ejercicio 1.</b></span> Calcular las conjugadas de las matrices: (a) $A = \\left( \\begin{array}{cc} 1 & 4\\,i \\\\ 2 & -5\\,i \\\\ 3 & 6+6\\,i \\end{array} \\right)$; (b) $B = \\left( \\begin{array}{cc} 1 & 4\\,i \\end{array} \\right)$; (c) $C = \\left( \\begin{array}{c} 1 \\\\ 2 \\\\ 3 \\end{array} \\right)$.\n",
    "    </span></div>"
   ]
  },
  {
   "cell_type": "code",
   "execution_count": null,
   "id": "dee5a35a",
   "metadata": {},
   "outputs": [],
   "source": [
    "# Ejercicio 1-a.\n",
    "print(\"Ejercicio 1-a.\")\n",
    "A = array([[1, 4j], [2, -5j], [3, 6+6j]])\n",
    "print(\"Matriz: A = \", A)\n",
    "print(\"Conjugada: A^* = \", conjugada(A))"
   ]
  },
  {
   "cell_type": "code",
   "execution_count": null,
   "id": "f7beb241",
   "metadata": {},
   "outputs": [],
   "source": [
    "# Ejercicio 1-b.\n",
    "print(\"Ejercicio 1-b.\")\n",
    "B = array([[1, 4j]])\n",
    "..."
   ]
  },
  {
   "cell_type": "code",
   "execution_count": null,
   "id": "84b83c29",
   "metadata": {},
   "outputs": [],
   "source": [
    "# Ejercicio 1-c.\n",
    "print(\"Ejercicio 1-c.\")\n",
    "C = array([[1], [2], [3]])\n",
    "..."
   ]
  },
  {
   "cell_type": "markdown",
   "id": "b6410191",
   "metadata": {},
   "source": [
    "<div align=\"left\"><span style=\"font-family: Arial; color:#000000; font-size: medium\">\n",
    "    <span style=\"color:#FF0000\"><b>Ejercicio 2.</b></span> Mejorar la función anterior en el siguiente sentido: como se puede comprobar, si el argumento de entrada es un vector (array de una dimensión), la función devuelve también un vector con los elementos conjugados; modificar la función creada para que en este caso considere el vector como una matriz fila y devuelva, por tanto, una matriz columna (evidentemente con los elementos conjugados).\n",
    "    <br>\n",
    "    Comprobar la validez de la mejora realizada utilizando el vector $x=(1+i\\,,\\,2-2\\,i\\,,\\,-3+3\\,i)$.\n",
    "    </span></div>"
   ]
  },
  {
   "cell_type": "code",
   "execution_count": null,
   "id": "2a2eca8c",
   "metadata": {},
   "outputs": [],
   "source": [
    "# Ejercicio 2.\n",
    "print(\"Ejercicio 2.\")\n",
    "x = array([1+1j, 2-2j, -3+3j])\n",
    "..."
   ]
  },
  {
   "cell_type": "markdown",
   "id": "c667a917",
   "metadata": {},
   "source": [
    "<div align=\"left\"><span style=\"font-family: Arial; color:#000000; font-size: medium\">\n",
    "    El siguiente objetivo de esta práctica es calcular los <b>autovalores</b> y <b>autovectores</b> de una matriz, <b>diagonalizarla</b> (si es posible) y calcular sus <b>valores singulares</b>.\n",
    "    </span></div>"
   ]
  },
  {
   "cell_type": "markdown",
   "id": "fe723161",
   "metadata": {},
   "source": [
    "<div align=\"left\"><span style=\"font-family: Arial; color:#000000; font-size: medium\">\n",
    "   Dada una matriz $A\\in\\mathcal{M}_n(\\mathbb{K})$, sus <b>autovalores</b> y <b>autovectores</b> pueden calcularse con la ayuda de la función <span style=\"font-family: Courier\">eig()</span>; esta función tiene un único argumento de entrada que es la matriz cuadrada $A$ y tiene dos argumentos de salida, siendo el primero un vector de $n$ componentes conteniendo a los autovalores (en un orden arbitrario, quizás números complejos aunque la matriz sea de coeficientes reales y repetidos en caso de multiplicidad mayor que uno) y el segundo una matriz cuadrada de orden $n$ cuyas columnas son autovectores (asociados a los autovalores calculados, en el mismo orden y unitarios respecto del producto escalar ordinario).\n",
    "    <br>\n",
    "    No obstante la matriz de autovectores puede no ser regular en el caso de que la matriz dada no sea diagonalizable (los autovectores asociados a autovalores con multiplicidad mayor que 1 no son linealmente independientes).\n",
    "    <br>\n",
    "    En el caso de que la matriz dada sí sea diagonalizable, la matriz de autovectores que obtenemos es regular, pero aunque tengamos asegurado que existe una matriz de paso ortogonal-unitaria (al ser la matriz dada normal), la que obtenemos no lo es necesariamente.\n",
    "    </span></div>"
   ]
  },
  {
   "cell_type": "markdown",
   "id": "919d559a",
   "metadata": {},
   "source": [
    "<div align=\"left\"><span style=\"font-family: Arial; color:#000000; font-size: medium\">\n",
    "    <span style=\"color:#FF0000\"><b>Ejercicio 3 (a).</b></span> Calcular los autovalores y autovectores, y ver si es diagonalizable la matriz $A = \\left( \\begin{array}{rr} 3 & 1 \\\\ 0 & 1 \\end{array} \\right)$.\n",
    "    <br>\n",
    "    Imprimir el vector de autovalores y la matriz de autovectores (ortogonal-unitaria si es posible) y comprobar si la matriz dada es diagonalizable (comprobar que $P^{-1}\\,A\\,P=D$ para lo cual se puede utilizar la función <span style=\"font-family: Courier\">inv()</span> que calcula la inversa de la función dada como argumento). \n",
    "    </span></div>"
   ]
  },
  {
   "cell_type": "code",
   "execution_count": null,
   "id": "8f7f52c4",
   "metadata": {},
   "outputs": [],
   "source": [
    "# Ejercicio 3-a.\n",
    "print(\"Ejercicio 3-a.\")\n",
    "A = array([[3, 1], [0, 1]])\n",
    "print(\"Matriz: A = \", A)\n",
    "d, P = eig(A)\n",
    "print(\"Vector de autovalores: d = \", d)\n",
    "print(\"Matriz de autovectores: P = \", P)\n",
    "detP = det(P)\n",
    "print(\"det(P) = \", detP)\n",
    "if abs(detP) > 1.e-10:\n",
    "    print(\"La matriz es diagonalizable.\")\n",
    "    D = inv(P)@A@P\n",
    "    print(\"inv(P)@A@P = \", D)\n",
    "    print(\"Comprobación: \", max(abs(D - diag(d))))\n",
    "else:\n",
    "    print(\"La matriz no es diagonalizable.\")"
   ]
  },
  {
   "cell_type": "code",
   "execution_count": null,
   "id": "b6aab092",
   "metadata": {},
   "outputs": [],
   "source": [
    "# Matriz normal.\n",
    "normal = A@conjugada(A) - conjugada(A)@A\n",
    "print(\"A@A^* - A^*@A = \", normal)\n",
    "mv = max(abs(normal))\n",
    "if mv > 1.e-10:\n",
    "    print(\"La matriz no es normal.\")\n",
    "else:\n",
    "    print(\"La matriz es normal.\")"
   ]
  },
  {
   "cell_type": "code",
   "execution_count": null,
   "id": "7edd8844",
   "metadata": {},
   "outputs": [],
   "source": [
    "# Matriz de paso ortogonal-unitaria.\n",
    "n = size(d)\n",
    "unit = conjugada(P)@P\n",
    "print(\"P^*@P = \", unit)\n",
    "mv = max(abs(unit - eye(n)))\n",
    "if mv > 1.e-10:\n",
    "    print(\"La matriz de paso no es ortogonal-unitaria.\")\n",
    "else:\n",
    "    print(\"La matriz de paso es ortogonal-unitaria.\")"
   ]
  },
  {
   "cell_type": "code",
   "execution_count": null,
   "id": "5a299dbf",
   "metadata": {},
   "outputs": [],
   "source": [
    "# Autovalores y autovectores.\n",
    "n = size(d)\n",
    "for i in range(n):\n",
    "    print(\"Autovalor: lambda = \", d[i], \" Autovector: x = \", P[:, i])"
   ]
  },
  {
   "cell_type": "markdown",
   "id": "779aae98",
   "metadata": {},
   "source": [
    "<div align=\"left\"><span style=\"font-family: Arial; color:#000000; font-size: medium\">\n",
    "    <span style=\"color:#FF0000\"><b>Ejercicio 3 (b).</b></span> Ídem con la matriz $A = \\left( \\begin{array}{rr} 0 & -2 \\\\ 2 & 0 \\end{array} \\right)$.\n",
    "    </span></div>"
   ]
  },
  {
   "cell_type": "code",
   "execution_count": null,
   "id": "9d928170",
   "metadata": {},
   "outputs": [],
   "source": [
    "# Ejercicio 3-b.\n",
    "print(\"Ejercicio 3-b.\")\n",
    "A = array([[0, -2], [2, 0]])\n",
    "..."
   ]
  },
  {
   "cell_type": "code",
   "execution_count": null,
   "id": "ac02ceb3",
   "metadata": {},
   "outputs": [],
   "source": []
  },
  {
   "cell_type": "markdown",
   "id": "3a7bbf74",
   "metadata": {},
   "source": [
    "<div align=\"left\"><span style=\"font-family: Arial; color:#000000; font-size: medium\">\n",
    "    <span style=\"color:#FF0000\"><b>Ejercicio 3 (c).</b></span> Ídem con la matriz $A = \\left( \\begin{array}{rrr} 2 & 0 & 2 \\\\ 0 & 1 & 0 \\\\ 2 & 0 & -1 \\end{array} \\right)$.\n",
    "    </span></div>"
   ]
  },
  {
   "cell_type": "code",
   "execution_count": null,
   "id": "b308e079",
   "metadata": {},
   "outputs": [],
   "source": [
    "# Ejercicio 3-c.\n",
    "print(\"Ejercicio 3-c.\")\n",
    "A = array([[2, 0 ,2], [0, 1, 0], [2, 0, -1]])\n",
    "..."
   ]
  },
  {
   "cell_type": "code",
   "execution_count": null,
   "id": "76dd7e31",
   "metadata": {},
   "outputs": [],
   "source": []
  },
  {
   "cell_type": "markdown",
   "id": "de346bdc",
   "metadata": {},
   "source": [
    "<div align=\"left\"><span style=\"font-family: Arial; color:#000000; font-size: medium\">\n",
    "    <span style=\"color:#FF0000\"><b>Ejercicio 3 (d).</b></span> Ídem con la matriz $A = \\left( \\begin{array}{rrr} 1 & 0 & 0 \\\\ -3 & 1 & 0 \\\\ 4 & -7 & 1 \\end{array} \\right)$.\n",
    "    </span></div>"
   ]
  },
  {
   "cell_type": "code",
   "execution_count": null,
   "id": "a0b21692",
   "metadata": {},
   "outputs": [],
   "source": [
    "# Ejercicio 3-d.\n",
    "print(\"Ejercicio 3-d.\")\n",
    "A = array([[1, 0 ,0], [-3, 1, 0], [4, -7, 1]])\n",
    "..."
   ]
  },
  {
   "cell_type": "code",
   "execution_count": null,
   "id": "5df5687b",
   "metadata": {},
   "outputs": [],
   "source": []
  },
  {
   "cell_type": "markdown",
   "id": "a47aec34",
   "metadata": {},
   "source": [
    "<div align=\"left\"><span style=\"font-family: Arial; color:#000000; font-size: medium\">\n",
    "    <span style=\"color:#FF0000\"><b>Ejercicio 3 (e).</b></span> Ídem con la matriz $A = \\left( \\begin{array}{rrrr} 1 & 0 & 0 & 1 \\\\ 0 & 1 & 0 & 0 \\\\ 0 & 0 & 1 & -2 \\\\ 1 & 0 & -2 & 5 \\end{array} \\right)$.\n",
    "    </span></div>"
   ]
  },
  {
   "cell_type": "code",
   "execution_count": null,
   "id": "5040e9e9",
   "metadata": {},
   "outputs": [],
   "source": [
    "# Ejercicio 3-e.\n",
    "print(\"Ejercicio 3-e.\")\n",
    "A = array([[1, 0 ,0, 1], [0, 1, 0, 0], [0, 0, 1, -2], [1, 0, -2, 5]])\n",
    "..."
   ]
  },
  {
   "cell_type": "code",
   "execution_count": null,
   "id": "c4c0446b",
   "metadata": {},
   "outputs": [],
   "source": []
  },
  {
   "cell_type": "markdown",
   "id": "926dfb65",
   "metadata": {},
   "source": [
    "<div align=\"left\"><span style=\"font-family: Arial; color:#000000; font-size: medium\">\n",
    "    <span style=\"color:#FF0000\"><b>Ejercicio 3 (f).</b></span> Ídem con la matriz $A = \\left( \\begin{array}{rrrr} 7 & 1 & 1 & 1 \\\\ 1 & 7 & 1 & 1 \\\\ 1 & 1 & 7 & 1 \\\\ 1 & 1 & 1 & 7 \\end{array} \\right)$.\n",
    "    </span></div>"
   ]
  },
  {
   "cell_type": "code",
   "execution_count": null,
   "id": "fa9c1d54",
   "metadata": {},
   "outputs": [],
   "source": [
    "# Ejercicio 3-f.\n",
    "print(\"Ejercicio 3-f.\")\n",
    "A = ones((4, 4)) + 6*eye(4)\n",
    "..."
   ]
  },
  {
   "cell_type": "code",
   "execution_count": null,
   "id": "6799c8ae",
   "metadata": {},
   "outputs": [],
   "source": []
  },
  {
   "cell_type": "markdown",
   "id": "4257825b",
   "metadata": {},
   "source": [
    "<div align=\"left\"><span style=\"font-family: Arial; color:#000000; font-size: medium\">\n",
    "    Dada una matriz $A\\in\\mathcal{M}_n(\\mathbb{K})$, sus <b>valores singulares</b> pueden calcularse con la ayuda de la función <span style=\"font-family: Courier\">svd()</span>; esta función tiene un único argumento de entrada que es la matriz cuadrada $A$ y tiene tres argumentos de salida, siendo el segundo un vector de $n$ componentes (reales y mayores o iguales que 0) conteniendo a los valores singulares (en un orden arbitrario y repetidos en caso de multiplicidad mayor que uno) y el primero y tercero las  dos matrices de orden $n$ ortogonales-unitarias de su descomposición en valores singulares.\n",
    "    <br>\n",
    "    Si llamamos $S$ a la matriz diagonal cuyos elementos diagonales son los valores singulares de $A$ (en el orden que proporciona la función <span style=\"font-family: Courier\">svd()</span>) y $U$ y $V$ las matrices ortogonales-unitarias que se obtienen como primera y tercera salida de dicha función, se verifica que $U\\,S\\,V=A$.\n",
    "    </span></div>"
   ]
  },
  {
   "cell_type": "markdown",
   "id": "536d4bc7",
   "metadata": {},
   "source": [
    "<div align=\"left\"><span style=\"font-family: Arial; color:#000000; font-size: medium\">\n",
    "    <span style=\"color:#FF0000\"><b>Ejercicio 4 (a).</b></span> Realizar la descomposición en valores singulares de la matriz $A = \\left( \\begin{array}{rr} 3 & 1 \\\\ 0 & 1 \\end{array} \\right)$.\n",
    "    </span></div>"
   ]
  },
  {
   "cell_type": "code",
   "execution_count": null,
   "id": "9be9f492",
   "metadata": {},
   "outputs": [],
   "source": [
    "# Ejercicio 4-a.\n",
    "print(\"Ejercicio 4-a.\")\n",
    "A = array([[3, 1], [0, 1]])\n",
    "print(\"Matriz: A = \", A)\n",
    "U, s, V = svd(A)\n",
    "print(\"Vector de valores singulares: s = \", s)\n",
    "print(\"Matrices ortogonales-unitarias de la descomposición en valores singulares:\")\n",
    "print(\"U = \", U)\n",
    "print(\"V = \", V)\n",
    "DVS = U@diag(s)@V\n",
    "print(\"U@diag(s)@V = \", DVS)\n",
    "print(\"Comprobación: \", max(abs(DVS - A)))"
   ]
  },
  {
   "cell_type": "markdown",
   "id": "3cb15dd0",
   "metadata": {},
   "source": [
    "<div align=\"left\"><span style=\"font-family: Arial; color:#000000; font-size: medium\">\n",
    "    <span style=\"color:#FF0000\"><b>Ejercicio 4 (b).</b></span> Ídem con la matriz $A = \\left( \\begin{array}{rr} 0 & -2 \\\\ 2 & 0 \\end{array} \\right)$.\n",
    "    </span></div>"
   ]
  },
  {
   "cell_type": "code",
   "execution_count": null,
   "id": "a5b74d05",
   "metadata": {},
   "outputs": [],
   "source": [
    "# Ejercicio 4-b.\n",
    "print(\"Ejercicio 4-b.\")\n",
    "A = array([[0, -2], [2, 0]])\n",
    "..."
   ]
  },
  {
   "cell_type": "markdown",
   "id": "f6b9102e",
   "metadata": {},
   "source": [
    "<div align=\"left\"><span style=\"font-family: Arial; color:#000000; font-size: medium\">\n",
    "    <span style=\"color:#FF0000\"><b>Ejercicio 4 (c).</b></span> Ídem con la matriz $A = \\left( \\begin{array}{rrr} 2 & 0 & 2 \\\\ 0 & 1 & 0 \\\\ 2 & 0 & -1 \\end{array} \\right)$.\n",
    "    </span></div>"
   ]
  },
  {
   "cell_type": "code",
   "execution_count": null,
   "id": "d3e93948",
   "metadata": {},
   "outputs": [],
   "source": [
    "# Ejercicio 4-c.\n",
    "print(\"Ejercicio 4-c.\")\n",
    "A = array([[2, 0 ,2], [0, 1, 0], [2, 0, -1]])\n",
    "..."
   ]
  },
  {
   "cell_type": "markdown",
   "id": "1def97f7",
   "metadata": {},
   "source": [
    "<div align=\"left\"><span style=\"font-family: Arial; color:#000000; font-size: medium\">\n",
    "    <span style=\"color:#FF0000\"><b>Ejercicio 4 (d).</b></span> Ídem con la matriz $A = \\left( \\begin{array}{rrr} 1 & 0 & 0 \\\\ -3 & 1 & 0 \\\\ 4 & -7 & 1 \\end{array} \\right)$.\n",
    "    </span></div>"
   ]
  },
  {
   "cell_type": "code",
   "execution_count": null,
   "id": "24ed55ab",
   "metadata": {},
   "outputs": [],
   "source": [
    "# Ejercicio 4-d.\n",
    "print(\"Ejercicio 4-d.\")\n",
    "A = array([[1, 0 ,0], [-3, 1, 0], [4, -7, 1]])\n",
    "..."
   ]
  },
  {
   "cell_type": "markdown",
   "id": "6615ca7b",
   "metadata": {},
   "source": [
    "<div align=\"left\"><span style=\"font-family: Arial; color:#000000; font-size: medium\">\n",
    "    <span style=\"color:#FF0000\"><b>Ejercicio 4 (e).</b></span> Ídem con la matriz $A = \\left( \\begin{array}{rrrr} 1 & 0 & 0 & 1 \\\\ 0 & 1 & 0 & 0 \\\\ 0 & 0 & 1 & -2 \\\\ 1 & 0 & -2 & 5 \\end{array} \\right)$.\n",
    "    </span></div>"
   ]
  },
  {
   "cell_type": "code",
   "execution_count": null,
   "id": "140afc37",
   "metadata": {},
   "outputs": [],
   "source": [
    "# Ejercicio 4-e.\n",
    "print(\"Ejercicio 4-e.\")\n",
    "A = array([[1, 0 ,0, 1], [0, 1, 0, 0], [0, 0, 1, -2], [1, 0, -2, 5]])\n",
    "..."
   ]
  },
  {
   "cell_type": "markdown",
   "id": "53ff10a0",
   "metadata": {},
   "source": [
    "<div align=\"left\"><span style=\"font-family: Arial; color:#000000; font-size: medium\">\n",
    "    <span style=\"color:#FF0000\"><b>Ejercicio 4 (f).</b></span> Ídem con la matriz $A = \\left( \\begin{array}{rrrr} 7 & 1 & 1 & 1 \\\\ 1 & 7 & 1 & 1 \\\\ 1 & 1 & 7 & 1 \\\\ 1 & 1 & 1 & 7 \\end{array} \\right)$.\n",
    "    </span></div>"
   ]
  },
  {
   "cell_type": "code",
   "execution_count": null,
   "id": "9df4bce8",
   "metadata": {},
   "outputs": [],
   "source": [
    "# Ejercicio 4-f.\n",
    "print(\"Ejercicio 4-f.\")\n",
    "A = ones((4, 4)) + 6*eye(4)\n",
    "..."
   ]
  },
  {
   "cell_type": "markdown",
   "id": "32299a0f",
   "metadata": {},
   "source": [
    "<div align=\"left\"><span style=\"font-family: Arial; color:#000000; font-size: medium\">\n",
    "    <span style=\"color:#FF0000\"><b>Ejercicio 5.</b></span> En aquellos casos del Ejercicio 3 en los que hay autovalores con multiplicidad (dimensión algebraica) mayor que 1, comprobar cuando la dimensión geométrica de los mismos es igual o no (y por tanto la matriz es o no diagonalizable).\n",
    "    <br>\n",
    "    <i>Indicación:</i> la función <span style=\"font-family: Courier\">matrix_rank()</span>, cuyo parámetro de entrada es una matriz (no necesariamente cuadrada), devuelve el rango de la misma.\n",
    "    </span></div>"
   ]
  },
  {
   "cell_type": "code",
   "execution_count": null,
   "id": "85628c9a",
   "metadata": {},
   "outputs": [],
   "source": [
    "# Ejercicio 3-d.\n",
    "print(\"Ejercicio 3-d.\")\n",
    "A = array([[1, 0 ,0], [-3, 1, 0], [4, -7, 1]])\n",
    "print(\"Matriz: A = \", A)\n",
    "d, P = eig(A)\n",
    "print(\"Vector de autovalores: d = \", d)\n",
    "print(\"Matriz de autovectores: P = \", P)\n",
    "detP = det(P)\n",
    "print(\"det(P) = \", detP)\n",
    "if abs(detP) > 1.e-10:\n",
    "    print(\"La matriz es diagonalizable.\")\n",
    "    D = inv(P)@A@P\n",
    "    print(\"inv(P)@A@P = \", D)\n",
    "    print(\"Comprobación: \", max(abs(D - diag(d))))\n",
    "else:\n",
    "    print(\"La matriz no es diagonalizable.\")"
   ]
  },
  {
   "cell_type": "code",
   "execution_count": null,
   "id": "88e83d33",
   "metadata": {},
   "outputs": [],
   "source": [
    "# Ejercicio 5.\n",
    "print(\"El autovalor 1 tiene multiplicidad (dimensión algebraica) 3.\")\n",
    "dg = matrix_rank(P)\n",
    "print(\"Su dimensión geométrica es \", dg)\n",
    "print(\"Por tanto la matriz no es diagonalizable.\")"
   ]
  },
  {
   "cell_type": "code",
   "execution_count": null,
   "id": "a3dc1543",
   "metadata": {},
   "outputs": [],
   "source": []
  },
  {
   "cell_type": "markdown",
   "id": "d14d7d11",
   "metadata": {},
   "source": [
    "<div align=\"left\"><span style=\"font-family: Arial; color:#000000; font-size: medium\">\n",
    "    <span style=\"color:#FF0000\"><b>Ejercicio 6.</b></span> En aquellos casos del Ejercicio 3 en los que la matriz es normal y por tanto diagonalizable con matriz de paso unitaria, pero la matriz de paso obtenida no lo es, obtener una nueva matriz de paso que sí lo sea.\n",
    "    <br>\n",
    "    <i>Indicación:</i> la función <span style=\"font-family: Courier\">qr()</span>, cuyo parámetro de entrada es una matriz (no necesariamente cuadrada), devuelve dos matrices, siendo la primera de ellas la ortonormalización de Gram-Schmidt de los vectores columnas de la matriz dada.\n",
    "    </span></div>"
   ]
  },
  {
   "cell_type": "code",
   "execution_count": null,
   "id": "9356c63a",
   "metadata": {},
   "outputs": [],
   "source": []
  },
  {
   "cell_type": "markdown",
   "id": "7dc4e4ca",
   "metadata": {},
   "source": [
    "<div align=\"left\"><span style=\"font-family: Arial; color:#000000; font-size: medium\">\n",
    "    <span style=\"color:#FF0000\"><b>Ejercicio 7.</b></span> Para la matriz $A = \\left( \\begin{array}{rrr} 1 & 2 & 3 \\\\ 4 & 5 & 6\\\\ 7 & 8 & 9 \\end{array} \\right)$, comprobar que los valores singulares de $A$ son efectivamente las raíces cuadradas positivas de los autovalores de $A^*\\,A$.\n",
    "    </span></div>"
   ]
  },
  {
   "cell_type": "code",
   "execution_count": null,
   "id": "411fbea3",
   "metadata": {},
   "outputs": [],
   "source": []
  },
  {
   "cell_type": "markdown",
   "id": "eae6290f",
   "metadata": {},
   "source": [
    "<div align=\"left\"><span style=\"font-family: Arial; color:#000000; font-size: medium\">\n",
    "    <span style=\"color:#FF0000\"><b>Importante.</b></span> Durante el desarrollo de las clases prácticas vamos a crear un fichero <span style=\"font-family: Courier\">Python</span>, al que daremos el nombre de <span style=\"font-family: Courier\">algoritmos.py</span>, donde almacenaremos todas aquellas funciones propias que definamos durante el curso; esta será la <b>biblioteca</b> de nuestras funciones. A partir de ese momento, podremos utilizar dichas funciones en cualquier hoja de trabajo que estemos utilizando, sin más que importar dicho fichero al principio de la hoja de trabajo con una instrucción del tipo <span style=\"font-family: Courier\">from algoritmos import *</span>.\n",
    "    <br>\n",
    "    Cada vez que se modifique dicho fichero, no debemos olvidar guardar su contenido y reinicializar el núcleo de la hoja de trabajo para tener en cuenta dichas modificaciones.\n",
    "    </span></div>"
   ]
  },
  {
   "cell_type": "code",
   "execution_count": null,
   "id": "3c10ff82",
   "metadata": {},
   "outputs": [],
   "source": []
  }
 ],
 "metadata": {
  "kernelspec": {
   "display_name": "Python 3 (ipykernel)",
   "language": "python",
   "name": "python3"
  },
  "language_info": {
   "codemirror_mode": {
    "name": "ipython",
    "version": 3
   },
   "file_extension": ".py",
   "mimetype": "text/x-python",
   "name": "python",
   "nbconvert_exporter": "python",
   "pygments_lexer": "ipython3",
   "version": "3.9.16"
  }
 },
 "nbformat": 4,
 "nbformat_minor": 5
}
