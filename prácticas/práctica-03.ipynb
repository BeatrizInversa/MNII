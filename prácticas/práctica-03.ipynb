{
 "cells": [
  {
   "cell_type": "markdown",
   "id": "c67c48e8",
   "metadata": {},
   "source": [
    "<div align=\"center\"><span style=\"font-family: Arial; color:#0000FF\"><b>\n",
    "    <span style=\"font-size: x-large\">Métodos Numéricos II</span>\n",
    "    <br>\n",
    "    <span style=\"font-size: large\">Segundo de Grado en Matemáticas - Curso 2022/23</span>\n",
    "    <br>\n",
    "    <span style=\"font-size: medium\">Facultad de Ciencias de la Universidad de Málaga</span>\n",
    "    <br>\n",
    "    <span style=\"font-size: small\">Dpto. de Análisis Matemático, Estadística e Investigación Operativa, y Matemática Aplicada</span>\n",
    "    <br>\n",
    "    <span style=\"font-size: small\">Profs. Manuel J. Castro y Francisco J. Palma (Área Conocimiento de Matemática Aplicada)</span>\n",
    "    <br>\n",
    "    <span style=\"font-size: medium; color:#FF0000\">Práctica número 3</span>\n",
    "    </b></span></div>"
   ]
  },
  {
   "cell_type": "markdown",
   "id": "169f0c50",
   "metadata": {},
   "source": [
    "<div align=\"left\"><span style=\"font-family: Arial; color:#000000; font-size: medium\">\n",
    "    En primer lugar cargamos los módulos necesarios.\n",
    "    </span></div>"
   ]
  },
  {
   "cell_type": "code",
   "execution_count": null,
   "id": "4a3bf54c",
   "metadata": {},
   "outputs": [],
   "source": [
    "from algoritmos import *"
   ]
  },
  {
   "cell_type": "markdown",
   "id": "44e2ce8a",
   "metadata": {},
   "source": [
    "<div align=\"left\"><span style=\"font-family: Arial; color:#000000; font-size: medium\">\n",
    "    El objetivo de esta práctica es trabajar con <b>normas vectoriales</b> y <b>normas matriciales</b>.\n",
    "    </span></div>"
   ]
  },
  {
   "cell_type": "markdown",
   "id": "8cb8d741",
   "metadata": {},
   "source": [
    "<div align=\"left\"><span style=\"font-family: Arial; color:#000000; font-size: medium\">\n",
    "    Comenzamos con las <b>normas vectoriales</b>. Recordamos que en $\\mathbb{K}^n$, para cada $p\\ge1$, las funciones\n",
    "\\[\n",
    "\\|\\cdot\\|_p \\colon \\mathbb{K}^n \\to \\mathbb{R}^+ \\,/\\, X \\mapsto \\|X\\|_p = \\left( \\sum_{i=1}^n |x_i|^p \\right)^{1/p}\\,,\n",
    "\\]\n",
    "    así como la función\n",
    "\\[\n",
    "\\|\\cdot\\|_\\infty \\colon \\mathbb{K}^n \\to \\mathbb{R}^+ \\,/\\, X \\mapsto \\|X\\|_\\infty = \\max_{i=1,2,\\ldots,n} |x_i|\\,,\n",
    "\\]\n",
    "    definen normas vectoriales, llamadas <b>normas-</b>$p$. Además se demuestra que para todo $X\\in\\mathbb{K}^n$ la sucesión $\\{\\|X\\|_p\\}_{p\\in\\mathbb{N}}$ es convergente y su límite es justamente $\\|X\\|_\\infty$.\n",
    "    </span></div>"
   ]
  },
  {
   "cell_type": "markdown",
   "id": "3d67623e",
   "metadata": {},
   "source": [
    "<div align=\"left\"><span style=\"font-family: Arial; color:#000000; font-size: medium\">\n",
    "    La biblioteca <span style=\"font-family: Courier\">Numpy</span> incluye la función <span style=\"font-family: Courier\">norm()</span> cuyo objetivo es calcular normas vectoriales (también normas matriciales como veremos más adelante); cuando el primer argumento de entrada de dicha función es un vector (array de una dimensión), calcula la norma indicada por el segundo argumento de entrada; dicho segundo argumento puede ser (entre otros) cualquier número real $p\\ge1$ o bien la cadena de caracteres <span style=\"font-family: Courier\">inf</span>.\n",
    "    </span></div>"
   ]
  },
  {
   "cell_type": "markdown",
   "id": "e48d609b",
   "metadata": {},
   "source": [
    "<div align=\"left\"><span style=\"font-family: Arial; color:#000000; font-size: medium\">\n",
    "    <span style=\"color:#FF0000\"><b>Ejercicio 1.</b></span> Definir una función, de nombre <span style=\"font-family: Courier\">norma_vec()</span>, con dos argumentos de entrada: el primero un vector o una matriz columna, y el segundo el índice $p$ de la norma vectorial que se quiere calcular (número real mayor o igual a 1, o bien la cadena de caracteres <span style=\"font-family: Courier\">inf</span>); esta función debe devolver la norma vectorial correspondiente.\n",
    "    </span></div>"
   ]
  },
  {
   "cell_type": "code",
   "execution_count": null,
   "id": "dee5a35a",
   "metadata": {},
   "outputs": [],
   "source": [
    "def norma_vec(X, p):\n",
    "    if p == inf:\n",
    "        return max(abs(X))\n",
    "    else:\n",
    "        return (sum(abs(X)**p))**(1/p)"
   ]
  },
  {
   "cell_type": "markdown",
   "id": "252446e7",
   "metadata": {},
   "source": [
    "<div align=\"left\"><span style=\"font-family: Arial; color:#000000; font-size: medium\">\n",
    "    <span style=\"color:#FF0000\"><b>Ejercicio 2.</b></span> Comparar los resultados que se obtienen utilizando la función <span style=\"font-family: Courier\">norm()</span> y la función que se acaba de construir en el ejercicio anterior.\n",
    "    <br>\n",
    "    Utilizar el vector $x=(7\\,,\\,-8\\,,\\,9)$, así como la matriz columna $X = \\left( \\begin{array}{r} 7 \\\\ -8 \\\\ 9 \\end{array} \\right)$ (esta última solamente para la función que hemos definido), y las normas-$p$ donde $p=\\infty\\,,\\,1\\,,\\,2\\,,\\,\\pi\\,,\\,10\\,,\\,123.4\\,,\\,-3$.\n",
    "    <br>\n",
    "    Debido a que aparecen situaciones anómalas, mejorar la función <span style=\"font-family: Courier\">norma_vec()</span> de manera que se solucionen dichas anomalías.\n",
    "    </span></div>"
   ]
  },
  {
   "cell_type": "code",
   "execution_count": null,
   "id": "f7beb241",
   "metadata": {},
   "outputs": [],
   "source": [
    "# Ejercicio 1.\n",
    "print(\"Ejercicio 1.\")\n",
    "x = array([7, -8, 9])\n",
    "X = array([[7], [-8], [9]])\n",
    "print(\"x = \", x)\n",
    "print(\"X = \", X)"
   ]
  },
  {
   "cell_type": "code",
   "execution_count": null,
   "id": "4fa2cc42",
   "metadata": {},
   "outputs": [],
   "source": [
    "print(\"Norma inf (propio): \", norma_vec(x, inf), norma_vec(X, inf))\n",
    "print(\"Norma inf (Python): \", norm(X, inf))"
   ]
  },
  {
   "cell_type": "code",
   "execution_count": null,
   "id": "84b83c29",
   "metadata": {},
   "outputs": [],
   "source": [
    "print(\"Norma 1 (propio): \", norma_vec(x, 1), norma_vec(X, 1))\n",
    "print(\"Norma 1 (Python): \", norm(x, 1))"
   ]
  },
  {
   "cell_type": "code",
   "execution_count": null,
   "id": "046464f4",
   "metadata": {},
   "outputs": [],
   "source": [
    "print(\"Norma 2 (propio): \", norma_vec(x, 2), norma_vec(X, 2))\n",
    "print(\"Norma 2 (Python): \", norm(x, 2))"
   ]
  },
  {
   "cell_type": "code",
   "execution_count": null,
   "id": "1339b81a",
   "metadata": {},
   "outputs": [],
   "source": [
    "print(\"Norma pi (propio): \", norma_vec(x, pi), norma_vec(X, pi))\n",
    "print(\"Norma pi (Python): \", norm(x, pi))"
   ]
  },
  {
   "cell_type": "code",
   "execution_count": null,
   "id": "2528fdf2",
   "metadata": {},
   "outputs": [],
   "source": [
    "print(\"Norma 10 (propio): \", norma_vec(x, 10), norma_vec(X, 10))\n",
    "print(\"Norma 10 (Python): \", norm(x, 10))"
   ]
  },
  {
   "cell_type": "markdown",
   "id": "c4ddcee9",
   "metadata": {},
   "source": [
    "<div align=\"left\"><span style=\"font-family: Arial; color:#000000; font-size: medium\">\n",
    "    <b>Comentario:</b> un primer comportamiento anómalo se produce al calcular la norma-10; ello es debido a que al utilizar aritmética entera se produce un overflow en los cálculos intermedios. Ello se puede remediar, por ejemplo, obligando a que los cálculos sean realizados siempre con la aritmética más rica posible. Proponemos mejorar nuestra función para solucionar este problema.\n",
    "    </span></div>"
   ]
  },
  {
   "cell_type": "code",
   "execution_count": null,
   "id": "4c5ccd97",
   "metadata": {},
   "outputs": [],
   "source": []
  },
  {
   "cell_type": "code",
   "execution_count": null,
   "id": "5bad8814",
   "metadata": {},
   "outputs": [],
   "source": [
    "print(\"Norma 123.4 (propio): \", norma_vec(x, 123.4), norma_vec(X, 123.4))\n",
    "print(\"Norma 123.4 (Python): \", norm(x, 123.4))"
   ]
  },
  {
   "cell_type": "code",
   "execution_count": null,
   "id": "5623fddd",
   "metadata": {},
   "outputs": [],
   "source": [
    "print(\"Norma -3 (propio): \", norma_vec(x, -3), norma_vec(X, -3))\n",
    "print(\"Norma -3 (Python): \", norm(x, -3))"
   ]
  },
  {
   "cell_type": "markdown",
   "id": "05a43279",
   "metadata": {},
   "source": [
    "<div align=\"left\"><span style=\"font-family: Arial; color:#000000; font-size: medium\">\n",
    "    <b>Comentario:</b> otra anomalía que debería eliminarse es el hecho de que se calcula la norma-$(-3)$, cuando es algo que carece de sentido pues para que las normas-$p$ sean efectivamente normas vectoriales se debe verificar que $p\\ge1$ (aunque formalmente se puedan realizar los cálculos correspondientes). Proponemos mejorar de nuevo nuestra función para solucionar este problema.\n",
    "    </span></div>"
   ]
  },
  {
   "cell_type": "code",
   "execution_count": null,
   "id": "b4fef787",
   "metadata": {},
   "outputs": [],
   "source": []
  },
  {
   "cell_type": "markdown",
   "id": "585d208e",
   "metadata": {},
   "source": [
    "<div align=\"left\"><span style=\"font-family: Arial; color:#000000; font-size: medium\">\n",
    "    <b>Comentario:</b> se puede realizar también una mejora de nuestra función en el sentido de que detecte si el primer argumento de entrada es efectivamente un vector o una matriz columna, mostrando un mensaje de error en caso contrario.\n",
    "    </span></div>"
   ]
  },
  {
   "cell_type": "code",
   "execution_count": null,
   "id": "35fbdaff",
   "metadata": {},
   "outputs": [],
   "source": []
  },
  {
   "cell_type": "markdown",
   "id": "b6410191",
   "metadata": {},
   "source": [
    "<div align=\"left\"><span style=\"font-family: Arial; color:#000000; font-size: medium\">\n",
    "    <span style=\"color:#FF0000\"><b>Ejercicio 3.</b></span> construir una función, a la que daremos el nombre de <span style=\"font-family: Courier\">conv_norma_vec()</span>, con un único argumento de entrada que es un vector o una matriz columna. El objetivo de la función es el siguiente: en primer lugar calcula la norma infinita del vector dado, y a continuación calcula las normas-$p$, con $p=1,2,3,\\ldots$, hasta que el error relativo de estas normas con la norma infinito sea, en valor absoluto, menor que un cierto $\\varepsilon$ fijado (por ejemplo $10^{-10}$). Dado que tenemos asegurada de forma teórica la convergencia de las normas-$p$ hacia la norma-infinito, este proceso debe terminar en un momento dado.\n",
    "    <br>\n",
    "    Considerar, por ejemplo, el vector <span style=\"font-family: Courier\">x = array([1ek, 2ek, 3ek])</span> con $k = 0\\,,\\,\\pm10$, y analizar los resultados obtenidos. Mejorar, si es posible, la función que calcula las normas vectoriales creada en el ejercicio anterior para solventar los problemas que aparecen. ¿Qué ocurre cuando se considera el vector nulo?\n",
    "    </span></div>"
   ]
  },
  {
   "cell_type": "code",
   "execution_count": null,
   "id": "d1f432e7",
   "metadata": {},
   "outputs": [],
   "source": [
    "def conv_norma_vec(X):\n",
    "    print(\"Vector: X = \", X)\n",
    "    normainf = norma_vec(X, inf)\n",
    "    print(\"||X||_inf = \", normainf)\n",
    "    error = 1.\n",
    "    p = 0\n",
    "    while error >= 1e-10 and p < 200:\n",
    "        p = p+1\n",
    "        normap = norma_vec(X, p)\n",
    "#         normap = norm(X, p)\n",
    "        error = abs((normap - normainf)/normainf)\n",
    "        print(\"p = \", p, \" ||X||_p = \", normap, \" Error relativo = \", error)\n",
    "    if error < 1e-10:\n",
    "        print(\"Convergencia numérica alcanzada.\")\n",
    "    else:\n",
    "        print(\"Número máximo de iteraciones alcanzado.\")"
   ]
  },
  {
   "cell_type": "code",
   "execution_count": null,
   "id": "2a2eca8c",
   "metadata": {},
   "outputs": [],
   "source": [
    "# Ejercicio 3.\n",
    "print(\"Ejercicio 3.\")\n",
    "x = array([1e0, 2e0, 3e0])\n",
    "conv_norma_vec(x)"
   ]
  },
  {
   "cell_type": "code",
   "execution_count": null,
   "id": "411fbea3",
   "metadata": {},
   "outputs": [],
   "source": [
    "# Ejercicio 3.\n",
    "print(\"Ejercicio 3.\")\n",
    "x = array([1e10, 2e10, 3e10])\n",
    "conv_norma_vec(x)"
   ]
  },
  {
   "cell_type": "code",
   "execution_count": null,
   "id": "485d2025",
   "metadata": {},
   "outputs": [],
   "source": [
    "# Ejercicio 3.\n",
    "print(\"Ejercicio 3.\")\n",
    "x = array([1e-10, 2e-10, 3e-10])\n",
    "conv_norma_vec(x)"
   ]
  },
  {
   "cell_type": "markdown",
   "id": "3d10d262",
   "metadata": {},
   "source": [
    "<div align=\"left\"><span style=\"font-family: Arial; color:#000000; font-size: medium\">\n",
    "    <b>Comentario:</b> como puede observarse, cuando $k=10$ se produce una situación de <i>overflow</i>, mientras que cuando $k=-10$ se produce una situación de <i>underflow</i> (que puede considerarse aún peor al poder pasar desapercibida). Esta situación no mejora si cambiamos en nuestra función <span style=\"font-family: Courier\">conv_norma_vec()</span> el uso de la función propia <span style=\"font-family: Courier\">norma_vec()</span> por la función <span style=\"font-family: Courier\">norm()</span> de <span style=\"font-family: Courier\">Numpy</span> para calcular la norma de los vectores.\n",
    "    <br>\n",
    "    Realizar una mejora de nuestra función de cálculo de normas vectoriales que solvente esta anomalía.\n",
    "    </span></div>"
   ]
  },
  {
   "cell_type": "code",
   "execution_count": null,
   "id": "fd217ccf",
   "metadata": {},
   "outputs": [],
   "source": []
  },
  {
   "cell_type": "code",
   "execution_count": null,
   "id": "ca866088",
   "metadata": {},
   "outputs": [],
   "source": [
    "# Ejercicio 3.\n",
    "print(\"Ejercicio 3.\")\n",
    "x = array([0, 0, 0])\n",
    "conv_norma_vec(x)"
   ]
  },
  {
   "cell_type": "markdown",
   "id": "1e6ceee8",
   "metadata": {},
   "source": [
    "<div align=\"left\"><span style=\"font-family: Arial; color:#000000; font-size: medium\">\n",
    "    <b>Comentario:</b> de nuevo hay que tener cuidado al trabajar con el número 0, o incluso con números <i>excesivamente pequeños</i>, cuando se divide por ellos, debido a los errores de cancelación.\n",
    "    <br>\n",
    "    Realizar una nueva mejora de nuestra función de cálculo de normas vectoriales y en nuestra función de convergencia de normas que solvente esta anomalía; en este sentido, cualquier número menor que $10^{-200}$ (por ejemplo) debería evitarse que se utilizara como denominador de un cociente.\n",
    "    </span></div>"
   ]
  },
  {
   "cell_type": "code",
   "execution_count": null,
   "id": "23cf20b5",
   "metadata": {},
   "outputs": [],
   "source": []
  },
  {
   "cell_type": "code",
   "execution_count": null,
   "id": "b9c5720d",
   "metadata": {},
   "outputs": [],
   "source": []
  },
  {
   "cell_type": "markdown",
   "id": "e51011dc",
   "metadata": {},
   "source": [
    "<div align=\"left\"><span style=\"font-family: Arial; color:#000000; font-size: medium\">\n",
    "    Trabajamos ahora con las <b>normas matriciales</b>. Recordamos que es posible definir una norma matricial en $\\mathcal{M}_n(\\mathbb{K})$ a partir de una norma vectorial en $\\mathbb{K}^n$ poniendo\n",
    "\\[\n",
    "\\|A\\| = \\max_{X\\in\\mathbb{K}^n-\\{0\\}} \\frac{\\|A\\,X\\|}{\\|X\\|} = \\max_{\\|X\\|=1} \\|A\\,X\\| = \\max_{\\|X\\|\\le1} \\|A\\,X\\|\\,;\n",
    "\\]\n",
    "    esta norma matricial recibe el nombre de <b>norma matricial subordinada a la norma vectorial</b> considerada, y en el caso de la normas vectoriales más habituales se tienen las caracterizaciones\n",
    "\\begin{eqnarray*}\n",
    "\\|A\\|_\\infty & = & \\max_{i=1,\\ldots,n} \\sum_{j=1}^n |a_{i,j}|\\,, \\\\\n",
    "\\|A\\|_1 & = & \\max_{j=1,\\ldots,n} \\sum_{i=1}^n |a_{i,j}|\\,, \\\\\n",
    "\\|A\\|_2 & = & \\sqrt{\\varrho(A^*\\,A)} = \\sqrt{\\varrho(A\\,A^*)}\\,;\n",
    "\\end{eqnarray*}\n",
    "    recordamos también que la norma matricial-2 recibe el nombre de <b>norma espectral</b>.\n",
    "    <br>\n",
    "    Por otro lado, la función\n",
    "\\[\n",
    "\\|\\cdot\\|_E \\colon \\mathcal{M}_n(\\mathbb{K}) \\to \\mathbb{R}^+ \\,/\\, A \\mapsto \\|A\\|_E = \\left( \\sum_{i=1}^n \\sum_{j=1}^n |a_{i,j}|^2 \\right)^{1/2}\n",
    "\\]\n",
    "define también una norma matricial, no subordinada, llamada <b>norma matricial euclídea, de Shur o de Frobenius</b>.\n",
    "    </span></div>"
   ]
  },
  {
   "cell_type": "markdown",
   "id": "cabfa574",
   "metadata": {},
   "source": [
    "<div align=\"left\"><span style=\"font-family: Arial; color:#000000; font-size: medium\">\n",
    "    Como ya sabemos, la biblioteca <span style=\"font-family: Courier\">Numpy</span> incluye la función <span style=\"font-family: Courier\">norm()</span> que permite también calcular normas matriciales; cuando el primer argumento de entrada de dicha función es una matriz (array de dos dimensiones), calcula la norma indicada por el segundo argumento de entrada; dicho segundo argumento puede ser (entre otros) <span style=\"font-family: Courier\">inf</span>, 1, 2 o <span style=\"font-family: Courier\">'fro'</span>.\n",
    "    </span></div>"
   ]
  },
  {
   "cell_type": "markdown",
   "id": "6a6ea836",
   "metadata": {},
   "source": [
    "<div align=\"left\"><span style=\"font-family: Arial; color:#000000; font-size: medium\">\n",
    "    <span style=\"color:#FF0000\"><b>Ejercicio 4.</b></span> Definir una función, de nombre <span style=\"font-family: Courier\">norma_mat()</span>, con dos argumentos de entrada: el primero una matriz cuadrada, y el segundo el índice $p$ de la norma matricial que se quiere calcular (este índice puede adoptar los valores <span style=\"font-family: Courier\">inf</span>, 1, 2 o <span style=\"font-family: Courier\">'fro'</span>); esta función debe devolver la norma matricial correspondiente.\n",
    "    </span></div>"
   ]
  },
  {
   "cell_type": "code",
   "execution_count": null,
   "id": "b90127da",
   "metadata": {},
   "outputs": [],
   "source": [
    "def norma_mat(A, p):\n",
    "    ..."
   ]
  },
  {
   "cell_type": "markdown",
   "id": "492cbd00",
   "metadata": {},
   "source": [
    "<div align=\"left\"><span style=\"font-family: Arial; color:#000000; font-size: medium\">\n",
    "    <span style=\"color:#FF0000\"><b>Ejercicio 5.</b></span> Comparar los resultados que se obtienen utilizando la función <span style=\"font-family: Courier\">norm()</span> y la función que se acaba de construir en el ejercicio anterior.\n",
    "    <br>\n",
    "    Utilizar las matrices $A = \\left( \\begin{array}{rr} 1 & 2 \\\\ 3 & 4 \\end{array} \\right)$ y $B = \\left( \\begin{array}{rrr} 1 & -2. & 3\\,10^0 \\\\ 4\\,i & 5 & -6. \\\\ 7\\,10^0 & 8\\,i & 9 \\end{array} \\right)$, y las normas matriciales consideradas.\n",
    "    </span></div>"
   ]
  },
  {
   "cell_type": "code",
   "execution_count": null,
   "id": "048640dd",
   "metadata": {},
   "outputs": [],
   "source": [
    "# Ejercicio 5.\n",
    "print(\"Ejercicio 5.\")\n",
    "A = array([[1, 2], [3, 4]])\n",
    "B = array([[1, -2., 3e0], [-4j, 5, -6.], [7e0, 8j, 9]])\n",
    "print(\"A = \", A)\n",
    "print(\"B = \", B)"
   ]
  },
  {
   "cell_type": "code",
   "execution_count": null,
   "id": "cf6c82f5",
   "metadata": {},
   "outputs": [],
   "source": [
    "print(\"Norma inf (propio): \", norma_mat(A, inf), norma_mat(B, inf))\n",
    "print(\"Norma inf (Python): \", norm(A, inf), norm(B, inf))"
   ]
  },
  {
   "cell_type": "code",
   "execution_count": null,
   "id": "6c8e4e21",
   "metadata": {},
   "outputs": [],
   "source": [
    "print(\"Norma 1 (propio): \", norma_mat(A, 1), norma_mat(B, 1))\n",
    "print(\"Norma 1 (Python): \", norm(A, 1), norm(B, 1))"
   ]
  },
  {
   "cell_type": "code",
   "execution_count": null,
   "id": "da435cbc",
   "metadata": {},
   "outputs": [],
   "source": [
    "print(\"Norma 2 (propio): \", norma_mat(A, 2), norma_mat(B, 2))\n",
    "print(\"Norma 2 (Python): \", norm(A, 2), norm(B, 2))"
   ]
  },
  {
   "cell_type": "code",
   "execution_count": null,
   "id": "0c3ea157",
   "metadata": {},
   "outputs": [],
   "source": [
    "print(\"Norma euclídea (propio): \", norma_mat(A, 'fro'), norma_mat(B, 'fro'))\n",
    "print(\"Norma euclídea (Python): \", norm(A, 'fro'), norm(B, 'fro'))"
   ]
  },
  {
   "cell_type": "code",
   "execution_count": null,
   "id": "bad0c8ab",
   "metadata": {},
   "outputs": [],
   "source": [
    "print(\"Norma 3 (propio): \", norma_mat(A, 3), norma_mat(B, 3))\n",
    "print(\"Norma 3 (Python): \", norm(A, 3), norm(B, 3))"
   ]
  },
  {
   "cell_type": "code",
   "execution_count": null,
   "id": "6e2df608",
   "metadata": {},
   "outputs": [],
   "source": []
  },
  {
   "cell_type": "markdown",
   "id": "eae6290f",
   "metadata": {},
   "source": [
    "<div align=\"left\"><span style=\"font-family: Arial; color:#000000; font-size: medium\">\n",
    "    <span style=\"color:#FF0000\"><b>Importante.</b></span> No olvidar guardar en el fichero <span style=\"font-family: Courier\">algoritmos.py</span> las últimas versiones (convenientemente revisadas y depuradas) de las funciones que se han creado en esta práctica, de manera que estén disponibles para posteriores prácticas sin más que importar el mencionado fichero.\n",
    "    </span></div>"
   ]
  },
  {
   "cell_type": "code",
   "execution_count": null,
   "id": "3c10ff82",
   "metadata": {},
   "outputs": [],
   "source": []
  }
 ],
 "metadata": {
  "kernelspec": {
   "display_name": "Python 3 (ipykernel)",
   "language": "python",
   "name": "python3"
  },
  "language_info": {
   "codemirror_mode": {
    "name": "ipython",
    "version": 3
   },
   "file_extension": ".py",
   "mimetype": "text/x-python",
   "name": "python",
   "nbconvert_exporter": "python",
   "pygments_lexer": "ipython3",
   "version": "3.9.16"
  }
 },
 "nbformat": 4,
 "nbformat_minor": 5
}
